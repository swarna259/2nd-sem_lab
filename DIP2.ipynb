{
 "cells": [
  {
   "cell_type": "markdown",
   "id": "0de3581e",
   "metadata": {},
   "source": [
    "# Convert an image into jpg format using Pillow in Python"
   ]
  },
  {
   "cell_type": "code",
   "execution_count": null,
   "id": "9a08d0a0",
   "metadata": {},
   "outputs": [],
   "source": [
    "# importing the module \n",
    "from PIL import Image \n",
    "import os \n",
    "\n",
    "# importing the image \n",
    "im = Image.open(\"ucm.png\") \n",
    "print(\"The size of the image before conversion : \", end = \"\") \n",
    "print(os.path.getsize(\"ucm.png\")) \n",
    "\n",
    "# converting to jpg \n",
    "rgb_im = im.convert(\"RGB\") \n",
    "\n",
    "# exporting the image \n",
    "rgb_im.save(\"ucmjpg.jpg\") \n",
    "print(\"The size of the image after conversion : \", end = \"\") \n",
    "print(os.path.getsize(\"ucmjpg.jpg\")) \n"
   ]
  },
  {
   "cell_type": "code",
   "execution_count": null,
   "id": "72b78f44",
   "metadata": {},
   "outputs": [],
   "source": [
    "#Import the necessary libraries \n",
    "import cv2 \n",
    "import matplotlib.pyplot as plt \n",
    "import numpy as np \n",
    "\n",
    "# Load the image \n",
    "image = cv2.imread('mu.jpeg') \n",
    "\n",
    "#Plot the original image \n",
    "plt.subplot(1, 2, 1) \n",
    "plt.title(\"Original\") \n",
    "plt.imshow(image) \n",
    "\n",
    "# Adjust the brightness and contrast \n",
    "# Adjusts the brightness by adding 10 to each pixel value \n",
    "brightness = 10\n",
    "# Adjusts the contrast by scaling the pixel values by 2.3 \n",
    "contrast = 2.3\n",
    "image2 = cv2.addWeighted(image, contrast, np.zeros(image.shape, image.dtype), 0, brightness) \n",
    "\n",
    "#Save the image \n",
    "cv2.imwrite('modified_image.jpg', image2) \n",
    "#Plot the contrast image \n",
    "plt.subplot(1, 2, 2) \n",
    "plt.title(\"Brightness & contrast\") \n",
    "plt.imshow(image2) \n",
    "plt.show()\n"
   ]
  },
  {
   "cell_type": "markdown",
   "id": "5a824d03",
   "metadata": {},
   "source": [
    "# Sharpening images\n",
    "Sharpening is the process of enhancing the edges and fine details in an image to make it appear sharper and more defined. It is important because it can help to bring out the details and features in an image, making it more visually appealing and easier to understand. Sharpening can be used to correct blur or softness in an image and can be applied using a variety of techniques"
   ]
  },
  {
   "cell_type": "markdown",
   "id": "7dcea10b",
   "metadata": {},
   "source": [
    "One common method for sharpening images using OpenCV and Python is to use the cv2.filter2D() function, which convolves the image with a kernel. The kernel can be designed to enhance the edges in the image, resulting in a sharper image."
   ]
  },
  {
   "cell_type": "code",
   "execution_count": null,
   "id": "430fa0f9",
   "metadata": {},
   "outputs": [],
   "source": [
    "#Import the necessary libraries \n",
    "import cv2 \n",
    "import matplotlib.pyplot as plt \n",
    "import numpy as np \n",
    "\n",
    "# Load the image \n",
    "image = cv2.imread('GFG.jpeg') \n",
    "\n",
    "#Plot the original image \n",
    "plt.subplot(1, 2, 1) \n",
    "plt.title(\"Original\") \n",
    "plt.imshow(image) \n",
    "\n",
    "# Create the sharpening kernel \n",
    "kernel = np.array([[0, -1, 0], [-1, 5, -1], [0, -1, 0]]) \n",
    "\n",
    "# Sharpen the image \n",
    "sharpened_image = cv2.filter2D(image, -1, kernel) \n",
    "\n",
    "#Save the image \n",
    "cv2.imwrite('sharpened_image.jpg', sharpened_image) \n",
    "\n",
    "#Plot the sharpened image \n",
    "plt.subplot(1, 2, 2) \n",
    "plt.title(\"Sharpening\") \n",
    "plt.imshow(sharpened_image) \n",
    "plt.show()\n"
   ]
  },
  {
   "cell_type": "markdown",
   "id": "c45de3b7",
   "metadata": {},
   "source": [
    "#  Laplacian sharpening\n",
    "Another method for sharpening images is to use the cv2.Laplacian() function, which calculates the Laplacian of an image and returns the result as a sharpened image."
   ]
  },
  {
   "cell_type": "code",
   "execution_count": null,
   "id": "47c14c18",
   "metadata": {},
   "outputs": [],
   "source": [
    "#Import the necessary libraries \n",
    "import cv2 \n",
    "import matplotlib.pyplot as plt \n",
    "import numpy as np \n",
    "\n",
    "# Load the image \n",
    "image = cv2.imread('GFG.jpeg') \n",
    "\n",
    "#Plot the original image \n",
    "plt.subplot(1, 2, 1) \n",
    "plt.title(\"Original\") \n",
    "plt.imshow(image) \n",
    "\n",
    "# Sharpen the image using the Laplacian operator \n",
    "sharpened_image2 = cv2.Laplacian(image, cv2.CV_64F) \n",
    "\n",
    "#Save the image \n",
    "cv2.imwrite('Laplacian sharpened_image.jpg', sharpened_image2) \n",
    "\n",
    "#Plot the sharpened image \n",
    "plt.subplot(1, 2, 2) \n",
    "plt.title(\"Laplacian Sharpening\") \n",
    "plt.imshow(sharpened_image2) \n",
    "plt.show()\n"
   ]
  },
  {
   "cell_type": "markdown",
   "id": "11780675",
   "metadata": {},
   "source": [
    "# Removing noise from images\n",
    "Noise reduction is the process of removing or reducing unwanted noise or artifacts from an image. It is important because it can improve the visual quality and clarity of the image and make it easier to analyze or process using computer algorithms. Noise can be introduced into an image due to a variety of factors and can degrade its quality. There are several techniques for reducing noise, including using filters such as the median filter or the Gaussian filter. It is important to apply noise reduction judiciously to avoid blur or loss of detail in the image."
   ]
  },
  {
   "cell_type": "code",
   "execution_count": null,
   "id": "86fef3bf",
   "metadata": {},
   "outputs": [],
   "source": [
    "#Import the necessary libraries \n",
    "import cv2 \n",
    "import matplotlib.pyplot as plt \n",
    "import numpy as np \n",
    "\n",
    "# Load the image \n",
    "image = cv2.imread('Ganesh.jpeg') \n",
    "\n",
    "#Plot the original image \n",
    "plt.subplot(1, 2, 1) \n",
    "plt.title(\"Original\") \n",
    "plt.imshow(image) \n",
    "\n",
    "# Remove noise using a median filter \n",
    "filtered_image = cv2.medianBlur(image, 11) \n",
    "\n",
    "#Save the image \n",
    "cv2.imwrite('Median Blur.jpg', filtered_image) \n",
    "\n",
    "#Plot the blured image \n",
    "plt.subplot(1, 2, 2) \n",
    "plt.title(\"Median Blur\") \n",
    "plt.imshow(filtered_image) \n",
    "plt.show()\n"
   ]
  },
  {
   "cell_type": "markdown",
   "id": "ce4419df",
   "metadata": {},
   "source": [
    "# GaussianBlur\n",
    "Another method for removing noise from images is to use a Gaussian filter, which uses a weighted average of neighboring pixels to smooth out noise and reduce artifacts. You can use the cv2.GaussianBlur() function to apply a Gaussian filter to an image in OpenCV."
   ]
  },
  {
   "cell_type": "code",
   "execution_count": null,
   "id": "d9ade690",
   "metadata": {},
   "outputs": [],
   "source": [
    "#Import the necessary libraries \n",
    "import cv2 \n",
    "import matplotlib.pyplot as plt \n",
    "import numpy as np \n",
    "\n",
    "# Load the image \n",
    "image = cv2.imread('GFG.jpeg') \n",
    "\n",
    "#Plot the original image \n",
    "plt.subplot(1, 2, 1) \n",
    "plt.title(\"Original\") \n",
    "plt.imshow(image) \n",
    "\n",
    "# Remove noise using a Gaussian filter \n",
    "filtered_image2 = cv2.GaussianBlur(image, (7, 7), 0) \n",
    "\n",
    "#Save the image \n",
    "cv2.imwrite('Gaussian Blur.jpg', filtered_image2) \n",
    "\n",
    "#Plot the blured image \n",
    "plt.subplot(1, 2, 2) \n",
    "plt.title(\"Gaussian Blur\") \n",
    "plt.imshow(filtered_image2) \n",
    "plt.show()\n"
   ]
  },
  {
   "cell_type": "markdown",
   "id": "35b4b6f8",
   "metadata": {},
   "source": [
    "# Enhancing color in images\n",
    "Color enhancement is adjusting the colors in an image to make them more vibrant, balanced, or natural. It can be used to correct color defects or problems in an image or to simply make an image more appealing and aesthetically pleasing. Color enhancement is important because it can significantly affect the visual impact and effectiveness of an image"
   ]
  },
  {
   "cell_type": "code",
   "execution_count": null,
   "id": "74af2ef0",
   "metadata": {},
   "outputs": [],
   "source": [
    "#Import the necessary libraries \n",
    "import cv2 \n",
    "import matplotlib.pyplot as plt \n",
    "import numpy as np \n",
    "\n",
    "# Load the image \n",
    "image = cv2.imread('GFG.jpeg') \n",
    "\n",
    "#Plot the original image \n",
    "plt.subplot(1, 2, 1) \n",
    "plt.title(\"Original\") \n",
    "plt.imshow(image) \n",
    "\n",
    "# Convert the image from BGR to HSV color space \n",
    "image = cv2.cvtColor(image, cv2.COLOR_RGB2HSV) \n",
    "\n",
    "# Adjust the hue, saturation, and value of the image \n",
    "# Adjusts the hue by multiplying it by 0.7 \n",
    "image[:, :, 0] = image[:, :, 0] * 0.7\n",
    "# Adjusts the saturation by multiplying it by 1.5 \n",
    "image[:, :, 1] = image[:, :, 1] * 1.5\n",
    "# Adjusts the value by multiplying it by 0.5 \n",
    "image[:, :, 2] = image[:, :, 2] * 0.5\n",
    "\n",
    "# Convert the image back to BGR color space \n",
    "image2 = cv2.cvtColor(image, cv2.COLOR_HSV2BGR) \n",
    "\n",
    "#Save the image \n",
    "cv2.imwrite('enhanced coloured.jpg', image2) \n",
    "\n",
    "#Plot the enhanced image \n",
    "plt.subplot(1, 2, 2) \n",
    "plt.title(\"enhanced coloured\") \n",
    "plt.imshow(image2) \n",
    "plt.show()\n"
   ]
  },
  {
   "cell_type": "markdown",
   "id": "69efd714",
   "metadata": {},
   "source": [
    "# Inverse Transform\n",
    "We can also inverse the color by simply subtracting each value from 255"
   ]
  },
  {
   "cell_type": "code",
   "execution_count": null,
   "id": "ffa0be9b",
   "metadata": {},
   "outputs": [],
   "source": [
    "#Import the necessary libraries \n",
    "import cv2 \n",
    "import matplotlib.pyplot as plt \n",
    "import numpy as np \n",
    "\n",
    "# Load the image \n",
    "image = cv2.imread('cat.jpeg') \n",
    "\n",
    "#Plot the original image \n",
    "plt.subplot(1, 2, 1) \n",
    "plt.title(\"Original\") \n",
    "plt.imshow(image) \n",
    "\n",
    "# Inverse by subtracting from 255 \n",
    "inverse_image = 255 - image \n",
    "\n",
    "#Save the image \n",
    "cv2.imwrite('inverse_image.jpg', inverse_image) \n",
    "#Plot the Inverse image \n",
    "plt.subplot(1, 2, 2) \n",
    "plt.title(\"Inverse color\") \n",
    "plt.imshow(inverse_image) \n",
    "plt.show()\n"
   ]
  },
  {
   "cell_type": "markdown",
   "id": "3b897ace",
   "metadata": {},
   "source": [
    "# Equalizing histograms –\n",
    "Histogram equalization is a technique used to adjust the contrast of an image by spreading out the intensity values of the pixels in the image. It is important because it can improve the contrast and clarity of an image, making it easier to see details and features that might be difficult to see in an image with low contrast. There are several different methods for performing histogram equalization, including global histogram equalization and local histogram equalization. Global histogram equalization adjusts the contrast of the entire image, while local histogram equalization adjusts the contrast in small, localized areas of the image.\n",
    "\n",
    "You can use the cv2.equalizeHist() function in OpenCV to equalize the histogram of an image. This function takes the image data as an argument and returns the equalized image data."
   ]
  },
  {
   "cell_type": "code",
   "execution_count": null,
   "id": "f2dde87a",
   "metadata": {},
   "outputs": [],
   "source": [
    "#Import the necessary libraries \n",
    "import cv2 \n",
    "import matplotlib.pyplot as plt \n",
    "import numpy as np \n",
    "\n",
    "# Load the image \n",
    "image = cv2.imread('cpp.jpeg') \n",
    "\n",
    "#Plot the original image \n",
    "plt.subplot(1, 2, 1) \n",
    "plt.title(\"Original\") \n",
    "plt.imshow(image) \n",
    "\n",
    "# Convert the image to grayscale \n",
    "gray_image = cv2.cvtColor(image, cv2.COLOR_BGR2GRAY) \n",
    "\n",
    "# Equalize the histogram \n",
    "equalized_image = cv2.equalizeHist(gray_image) \n",
    "\n",
    "#Save the equalized image \n",
    "cv2.imwrite('equalized.jpg', equalized_image) \n",
    "\n",
    "#Plot the equalized image \n",
    "plt.subplot(1, 2, 2) \n",
    "plt.title(\"equalized\") \n",
    "plt.imshow(equalized_image) \n",
    "plt.show()\n"
   ]
  },
  {
   "cell_type": "code",
   "execution_count": null,
   "id": "d651bcf8",
   "metadata": {},
   "outputs": [],
   "source": []
  },
  {
   "cell_type": "code",
   "execution_count": null,
   "id": "7d9d65c1",
   "metadata": {},
   "outputs": [],
   "source": []
  },
  {
   "cell_type": "code",
   "execution_count": null,
   "id": "093dd77a",
   "metadata": {},
   "outputs": [],
   "source": []
  }
 ],
 "metadata": {
  "kernelspec": {
   "display_name": "Python 3 (ipykernel)",
   "language": "python",
   "name": "python3"
  },
  "language_info": {
   "codemirror_mode": {
    "name": "ipython",
    "version": 3
   },
   "file_extension": ".py",
   "mimetype": "text/x-python",
   "name": "python",
   "nbconvert_exporter": "python",
   "pygments_lexer": "ipython3",
   "version": "3.10.9"
  }
 },
 "nbformat": 4,
 "nbformat_minor": 5
}
