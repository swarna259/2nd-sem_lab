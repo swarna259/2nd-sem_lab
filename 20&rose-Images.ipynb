{
 "cells": [
  {
   "cell_type": "code",
   "execution_count": 2,
   "id": "917c29f5",
   "metadata": {},
   "outputs": [
    {
     "name": "stdout",
     "output_type": "stream",
     "text": [
      "Images\\bird.jpg\n",
      "Images\\bubble.jpg\n",
      "Images\\cat.jpg\n",
      "Images\\cat1.jpg\n",
      "Images\\dog1.jpg\n",
      "Images\\floweer.jpg\n",
      "Images\\flower.jpg\n",
      "Images\\flower1.jpg\n",
      "Images\\Girl.jpg\n",
      "Images\\img11.jpg\n",
      "Images\\japan.jpg\n",
      "Images\\lab_dog.jpg\n",
      "Images\\lavender.jpg\n",
      "Images\\leafs.jpg\n",
      "Images\\lotus.jpg\n",
      "Images\\lotus_temple.jpg\n",
      "Images\\nature.jpg\n",
      "Images\\paris.jpg\n",
      "Images\\rose.jpg\n",
      "Images\\Seoul.jpg\n",
      "Means:  [81.74145930533956, 37.034982716049385, 35.465265433709824, 156.0824537037037, 132.62379532163743, 88.32564921700754, 189.61810185185186, 55.94439666666667, 150.95876674546886, 100.9335519125683, 113.63425473038164, 154.18401405152224, 204.3331896516996, 78.86369825708061, 67.92808426698888, 57.14258151584201, 72.03689873417721, 43.6710365234375, 79.53016027122823, 200.22801987352224]\n",
      "Variances :  [3434.6300333290305, 898.0828650985275, 3197.3506435325235, 1237.98911188105, 2047.4645460634224, 4595.980388507493, 3527.923308894839, 2356.750598269962, 3176.0170406736124, 3862.711332292001, 2408.72850828416, 1456.3163144748348, 5475.78895405439, 5708.184428691608, 3631.234039804714, 3945.2004154530764, 5674.068195459554, 2031.014505794515, 3146.3182381483907, 1472.957418065322]\n"
     ]
    },
    {
     "data": {
      "text/plain": [
       "<matplotlib.collections.PathCollection at 0x297143ba7f0>"
      ]
     },
     "execution_count": 2,
     "metadata": {},
     "output_type": "execute_result"
    },
    {
     "data": {
      "image/png": "[encoded data removed]",
      "text/plain": [
       "<Figure size 640x480 with 1 Axes>"
      ]
     },
     "metadata": {},
     "output_type": "display_data"
    }
   ],
   "source": [
    "import os\n",
    "import cv2\n",
    "import matplotlib.pyplot as plt\n",
    "\n",
    "def find_mean_variance(img):\n",
    "    rows, cols = img.shape\n",
    "    \n",
    "    sum1 = 0\n",
    "\n",
    "    for i in range(rows):\n",
    "        for j in range(cols):\n",
    "            sum1 += img[i,j]\n",
    "    mean = sum1 / (rows * cols)\n",
    "    \n",
    "    varianceSum = 0\n",
    "    \n",
    "    for i in range(rows):\n",
    "        for j in range(cols):\n",
    "            varianceSum += (img[i,j] - mean) ** 2\n",
    "    variance = varianceSum / (rows * cols)\n",
    "    \n",
    "    return mean, variance \n",
    "    \n",
    "root_folder = \"Images\"\n",
    "imgList = []\n",
    "for file in os.listdir(root_folder): \n",
    "    if file.endswith(('.jpg', '.jpeg', '.png', '.jfif')):\n",
    "        file_path = os.path.join(root_folder,file)\n",
    "        imgList.append(file_path)\n",
    "\n",
    "means = []\n",
    "variances = []\n",
    "\n",
    "for i in range(len(imgList)):\n",
    "    print(imgList[i])\n",
    "    imgOb = cv2.imread(imgList[i]) \n",
    "    \n",
    "    gray_image = cv2.cvtColor(imgOb, cv2.COLOR_BGR2GRAY) \n",
    "    mean, variance = find_mean_variance(gray_image)\n",
    "    \n",
    "    means.append(mean)\n",
    "    variances.append(variance)\n",
    "\n",
    "print(\"Means: \", means)\n",
    "print(\"Variances : \", variances)\n",
    "plt.scatter(means,variances)"
   ]
  },
  {
   "cell_type": "code",
   "execution_count": null,
   "id": "0897925a",
   "metadata": {},
   "outputs": [],
   "source": [
    "import os\n",
    "import cv2\n",
    "import matplotlib.pyplot as plt\n",
    "\n",
    "def find_mean_variance(img):\n",
    "    rows, cols = img.shape\n",
    "    \n",
    "    sum1 = 0\n",
    "\n",
    "    for i in range(rows):\n",
    "        for j in range(cols):\n",
    "            sum1 += img[i,j]\n",
    "    mean = sum1 / (rows * cols)\n",
    "    \n",
    "    varianceSum = 0\n",
    "    \n",
    "    for i in range(rows):\n",
    "        for j in range(cols):\n",
    "            varianceSum += (img[i,j] - mean) ** 2\n",
    "    variance = varianceSum / (rows * cols)\n",
    "    \n",
    "    return mean, variance \n",
    "    \n",
    "root_folder = \"Images\"\n",
    "imgList = []\n",
    "for file in os.listdir(root_folder): \n",
    "    if file.endswith(('.jpg', '.jpeg', '.png', '.jfif')):\n",
    "        file_path = os.path.join(root_folder,file)\n",
    "        imgList.append(file_path)\n",
    "\n",
    "means = []\n",
    "variances = []\n",
    "\n",
    "for i in range(len(imgList)):\n",
    "    print(imgList[i])\n",
    "    imgOb = cv2.imread(imgList[i]) \n",
    "    \n",
    "    gray_image = cv2.cvtColor(imgOb, cv2.COLOR_BGR2GRAY) \n",
    "    mean, variance = find_mean_variance(gray_image)\n",
    "    \n",
    "    means.append(mean)\n",
    "    variances.append(variance)\n",
    "\n",
    "print(\"Means: \", means)\n",
    "print(\"Variances : \", variances)\n",
    "plt.scatter(means,variances)"
   ]
  }
 ],
 "metadata": {
  "kernelspec": {
   "display_name": "Python 3 (ipykernel)",
   "language": "python",
   "name": "python3"
  },
  "language_info": {
   "codemirror_mode": {
    "name": "ipython",
    "version": 3
   },
   "file_extension": ".py",
   "mimetype": "text/x-python",
   "name": "python",
   "nbconvert_exporter": "python",
   "pygments_lexer": "ipython3",
   "version": "3.9.13"
  }
 },
 "nbformat": 4,
 "nbformat_minor": 5
}
