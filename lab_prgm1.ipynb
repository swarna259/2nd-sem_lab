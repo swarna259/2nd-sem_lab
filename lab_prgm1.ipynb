{
 "cells": [
  {
   "cell_type": "code",
   "execution_count": 3,
   "id": "06729e47",
   "metadata": {},
   "outputs": [
    {
     "name": "stdout",
     "output_type": "stream",
     "text": [
      "Enter number of elements in the list:2\n",
      "Enter the element:13\n",
      "Enter the element:7\n",
      "Second largest element is: 7\n"
     ]
    }
   ],
   "source": [
    "listval=[]\n",
    "num=int(input(\"Enter number of elements in the list:\"))\n",
    "for i in range(1, num + 1):\n",
    "    ele=int(input(\"Enter the element:\"))\n",
    "    listval.append(ele)\n",
    "listval.sort()\n",
    "print(\"Second largest element is:\", listval[-2])"
   ]
  },
  {
   "cell_type": "code",
   "execution_count": 9,
   "id": "1f123162",
   "metadata": {},
   "outputs": [
    {
     "name": "stdout",
     "output_type": "stream",
     "text": [
      "Enter value for a :67\n",
      "Enter value for b :-88\n",
      "Enter value for c :24\n",
      "Two Real Roots\n",
      "0.9270264220339528\n",
      "0.3864064137869428\n"
     ]
    }
   ],
   "source": [
    "import math\n",
    "a = int(input('Enter value for a :'))\n",
    "b = int(input('Enter value for b :'))\n",
    "c = int(input('Enter value for c :'))\n",
    "if a == 0: \n",
    "    print(\"a cannot be zero\") \n",
    "else:\n",
    "    d = b**2 - 4 * a * c \n",
    "    root = math.sqrt(abs(d)) \n",
    "    if d > 0: \n",
    "        print(\"Two Real Roots\") \n",
    "        print((-b + root)/(2 * a)) \n",
    "        print((-b - root)/(2 * a)) \n",
    "    elif d == 0: \n",
    "        print(\"Roots are equal\") \n",
    "        print(-b / (2*a)) \n",
    "    else: \n",
    "        print(\"No Real Root\") \n",
    "        print(- b / (2*a) , \" + i\", root) \n",
    "        print(- b / (2*a) , \" - i\", root)"
   ]
  },
  {
   "cell_type": "code",
   "execution_count": 12,
   "id": "10ffe751",
   "metadata": {},
   "outputs": [
    {
     "name": "stdout",
     "output_type": "stream",
     "text": [
      "Enter the value of a: 87\n",
      "Enter the value of b: 0\n",
      "Enter the value of c: 86\n",
      "Two distinct complex roots are 0.00+0.99 and 0.00-0.99\n"
     ]
    }
   ],
   "source": [
    "import math \n",
    "a = int(input('Enter the value of a: '))\n",
    "b = int(input('Enter the value of b: '))\n",
    "c = int(input('Enter the value of c: '))\n",
    "\n",
    "dis = (b**2) - (4*a*c)\n",
    "if(dis > 0):\n",
    "    root1 = (-b + math.sqrt(dis) / (2 * a))\n",
    "    root2 = (-b - math.sqrt(dis) / (2 * a))\n",
    "    print(\"Two distinct real roots are %.2f and %.2f\" %(root1, root2))\n",
    "elif(dis == 0):\n",
    "    root1 = root2 = -b / (2 * a)\n",
    "    print(\"Two equal and real roots are %.2f and %.2f\" %(root1, root2))\n",
    "elif(dis < 0):\n",
    "    root1 = root2 = -b / (2 * a)\n",
    "    imaginary = math.sqrt(-dis) / (2 * a)\n",
    "    print(\"Two distinct complex roots are %.2f+%.2f and %.2f-%.2f\" \n",
    "                          %(root1, imaginary, root2, imaginary))"
   ]
  },
  {
   "cell_type": "code",
   "execution_count": 20,
   "id": "330d12ae",
   "metadata": {},
   "outputs": [
    {
     "name": "stdout",
     "output_type": "stream",
     "text": [
      "a= 2\n",
      "b= 4\n",
      "c= 2\n",
      "This equation has one solutions:  -4.0\n"
     ]
    }
   ],
   "source": [
    "import math\n",
    "a=int(input(\"a= \"))\n",
    "b=int(input(\"b= \"))\n",
    "c=int(input(\"c= \"))\n",
    "d = b**2-4*a*c # discriminant\n",
    "if d < 0:\n",
    "    print(\"This equation has no real solution\")\n",
    "elif d == 0:\n",
    "    x = (-b+math.sqrt(b**2-4*a*c))/2*a\n",
    "    print (\"This equation has one solutions: \", x)\n",
    "else:\n",
    "    x1 = (-b+math.sqrt(b**2-4*a*c))/2*a\n",
    "    x2 = (-b-math.sqrt(b**2-4*a*c))/2*a\n",
    "    print (\"This equation has two solutions: \", x1, \" and\", x2)"
   ]
  },
  {
   "cell_type": "code",
   "execution_count": 23,
   "id": "09e9b2f1",
   "metadata": {},
   "outputs": [],
   "source": [
    "a = (\"John\",\"Charles\", \"Mike\")\n",
    "b = (\"Jenny\", \"Christy\", \"Monica\", \"Vicky\")\n",
    "x = zip(a, b)"
   ]
  },
  {
   "cell_type": "code",
   "execution_count": null,
   "id": "fcc2197c",
   "metadata": {},
   "outputs": [],
   "source": []
  }
 ],
 "metadata": {
  "kernelspec": {
   "display_name": "Python 3 (ipykernel)",
   "language": "python",
   "name": "python3"
  },
  "language_info": {
   "codemirror_mode": {
    "name": "ipython",
    "version": 3
   },
   "file_extension": ".py",
   "mimetype": "text/x-python",
   "name": "python",
   "nbconvert_exporter": "python",
   "pygments_lexer": "ipython3",
   "version": "3.9.13"
  }
 },
 "nbformat": 4,
 "nbformat_minor": 5
}
