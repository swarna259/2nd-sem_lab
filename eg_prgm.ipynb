{
 "cells": [
  {
   "cell_type": "code",
   "execution_count": 1,
   "id": "1f10e399",
   "metadata": {},
   "outputs": [
    {
     "name": "stdout",
     "output_type": "stream",
     "text": [
      "cat-dog-mouse-bird\n",
      "i am 16 years old\n",
      "1#2#3#4#5#6\n"
     ]
    }
   ],
   "source": [
    "list1=[\"cat\", \"dog\", \"mouse\", \"bird\"]\n",
    "list2=[\"i\", \"am\", \"16\", \"years\", \"old\"]\n",
    "list3=[\"1\", \"2\", \"3\", \"4\", \"5\", \"6\"]\n",
    "string1='-'.join(list1)\n",
    "string2=' '.join(list2)\n",
    "string3='#'.join(list3)\n",
    "print(string1)\n",
    "print(string2)\n",
    "print(string3)"
   ]
  },
  {
   "cell_type": "code",
   "execution_count": 6,
   "id": "7c66e134",
   "metadata": {},
   "outputs": [
    {
     "data": {
      "text/plain": [
       "97"
      ]
     },
     "execution_count": 6,
     "metadata": {},
     "output_type": "execute_result"
    }
   ],
   "source": [
    "mlist=[54,78,49,68,85,97]\n",
    "max(mlist)"
   ]
  },
  {
   "cell_type": "code",
   "execution_count": 7,
   "id": "ca62d3c4",
   "metadata": {},
   "outputs": [
    {
     "data": {
      "text/plain": [
       "49"
      ]
     },
     "execution_count": 7,
     "metadata": {},
     "output_type": "execute_result"
    }
   ],
   "source": [
    "mlist=[54,78,49,68,85,97]\n",
    "min(mlist)"
   ]
  },
  {
   "cell_type": "code",
   "execution_count": 8,
   "id": "32679b2a",
   "metadata": {},
   "outputs": [
    {
     "data": {
      "text/plain": [
       "431"
      ]
     },
     "execution_count": 8,
     "metadata": {},
     "output_type": "execute_result"
    }
   ],
   "source": [
    "mlist=[54,78,49,68,85,97]\n",
    "sum(mlist)"
   ]
  },
  {
   "cell_type": "code",
   "execution_count": 10,
   "id": "ba7ecc6a",
   "metadata": {},
   "outputs": [
    {
     "name": "stdout",
     "output_type": "stream",
     "text": [
      "Enter a number:19977991\n",
      "The number is palindrome!\n"
     ]
    }
   ],
   "source": [
    "num=int(input(\"Enter a number:\"))\n",
    "temp=num\n",
    "rev=0\n",
    "while(num>0):\n",
    "    dig=num%10\n",
    "    rev=rev*10+dig\n",
    "    num=num//10\n",
    "if(temp==rev):\n",
    "    print(\"The number is palindrome!\")\n",
    "else:\n",
    "    print(\"Not a palindrome!\")"
   ]
  },
  {
   "cell_type": "code",
   "execution_count": null,
   "id": "a29dd1f6",
   "metadata": {},
   "outputs": [],
   "source": [
    "str1= \"Happy new year! 2022\"\n",
    "temp = \"\"\n",
    "final_str = \"\"\n",
    "space_counter = 0\n",
    "print(f\"string: {str1}\\nlen: {len(str1)}\")\n",
    "for index in range(len(str1)):\n",
    "    # print(index, \":\", str1[index])\n",
    "    char = str1[index]\n",
    "    if char == \" \":\n",
    "        space_counter += 1\n",
    "        if space_counter == 1:\n",
    "            a_str = temp\n",
    "        elif space_counter == 2:\n",
    "            b_str = temp + \" \" + a_str\n",
    "            a_str = b_str\n",
    "            space_counter = 1\n",
    "        final_str = a_str\n",
    "        temp = \"\"\n",
    "    elif index == len(str1) - 1:\n",
    "        temp += char\n",
    "        if final_str != \"\":\n",
    "            final_str = temp + \" \" + final_str\n",
    "        else:\n",
    "            final_str= temp\n",
    "    else:\n",
    "        temp += char\n",
    "print(f\"Reversed_string: {final_str}\\nlen: {len(final_str)}\")\n",
    "\n",
    "# Output:\n",
    "# string: Happy new year! 2022\n",
    "# len: 20\n",
    "# Reversed_string: 2022 year! new Happy\n",
    "# len: 20 "
   ]
  },
  {
   "cell_type": "code",
   "execution_count": 22,
   "id": "e12180d6",
   "metadata": {},
   "outputs": [
    {
     "name": "stdout",
     "output_type": "stream",
     "text": [
      "Enter a number:3\n",
      "The sum is 6\n"
     ]
    }
   ],
   "source": [
    "num=int(input(\"Enter a number:\"))\n",
    "if num < 0:\n",
    "    print(\"Enter a positive number\")\n",
    "else:\n",
    "    sum = 0\n",
    "while(num > 0):\n",
    "    sum += num\n",
    "    num -= 1\n",
    "print(\"The sum is\", sum)"
   ]
  },
  {
   "cell_type": "code",
   "execution_count": null,
   "id": "1302c2ed",
   "metadata": {},
   "outputs": [],
   "source": []
  }
 ],
 "metadata": {
  "kernelspec": {
   "display_name": "Python 3 (ipykernel)",
   "language": "python",
   "name": "python3"
  },
  "language_info": {
   "codemirror_mode": {
    "name": "ipython",
    "version": 3
   },
   "file_extension": ".py",
   "mimetype": "text/x-python",
   "name": "python",
   "nbconvert_exporter": "python",
   "pygments_lexer": "ipython3",
   "version": "3.9.13"
  }
 },
 "nbformat": 4,
 "nbformat_minor": 5
}
